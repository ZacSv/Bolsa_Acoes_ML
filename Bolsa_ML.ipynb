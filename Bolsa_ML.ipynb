{
 "cells": [
  {
   "cell_type": "code",
   "execution_count": null,
   "metadata": {},
   "outputs": [],
   "source": [
    "import math\n",
    "import numpy as np\n",
    "import pandas as pd\n",
    "from sklearn.preprocessing import MinMaxScaler\n",
    "from keras.models import Sequential\n",
    "from keras.layers import Dense, LSTM\n",
    "import matplotlib.pyplot as plt\n",
    "from datetime import datetime\n",
    "from datetime import timedelta\n",
    "import yfinance as yf\n",
    "pd.options.mode.chained_assignment = None"
   ]
  },
  {
   "cell_type": "code",
   "execution_count": null,
   "metadata": {
    "scrolled": true
   },
   "outputs": [],
   "source": [
    "#Defininfo o período de referência para treinamento do modelo\n",
    "acao = \"VALE3.SA\"\n",
    "inicio = \"2015-12-31\"\n",
    "fim = \"2024-04-10\"\n",
    "dados_acao = yf.download(acao, inicio, fim)"
   ]
  },
  {
   "cell_type": "code",
   "execution_count": null,
   "metadata": {},
   "outputs": [],
   "source": [
    "#Pegando os dados da cotação no ato do fechamento, não na cotação ajustada\n",
    "cotacao = dados_acao['Close'].to_numpy().reshape(-1, 1)"
   ]
  },
  {
   "cell_type": "code",
   "execution_count": null,
   "metadata": {},
   "outputs": [],
   "source": [
    "#Definindo para serem treinados apenas 80% dos dados evitando o sobreajuste (overfitting)\n",
    "dados_sendo_treinados = int(len(cotacao) * 0.8)\n",
    "type(dados_sendo_treinados)"
   ]
  },
  {
   "cell_type": "code",
   "execution_count": null,
   "metadata": {},
   "outputs": [],
   "source": [
    "#Escalonando os dados para uma escala entre 0 e 1 facilitando o treinamento da rede\n",
    "escalador_dados = MinMaxScaler(feature_range=(0, 1))\n",
    "dados_0_1_treinamento = escalador_dados.fit_transform(cotacao[0: dados_sendo_treinados, :])\n",
    "dados_0_1_testes = escalador_dados.transform(cotacao[dados_sendo_treinados: , :])\n",
    "dados_0_1 = list(dados_0_1_treinamento.reshape(len(dados_0_1_treinamento))) + list(dados_0_1_testes.reshape(len(dados_0_1_testes)))\n",
    "dados_0_1 = np.array(dados_0_1).reshape(len(dados_0_1), 1)\n"
   ]
  },
  {
   "cell_type": "code",
   "execution_count": null,
   "metadata": {},
   "outputs": [],
   "source": [
    "dados_a_treinar = dados_0_1[0: dados_sendo_treinados, :]\n",
    "\n",
    "#Dados que irão gerar o resultado (cotações dos 60 dias passados)\n",
    "treinamento_x = []\n",
    "#Cotação real \n",
    "treinamento_y = []\n",
    "\n",
    "\n",
    "for i in range(60, len(dados_a_treinar)):\n",
    "    treinamento_x.append(dados_a_treinar[i -60: i, 0])\n",
    "    treinamento_y.append(dados_a_treinar[i, 0])\n",
    "\n",
    "    if i <= 61:\n",
    "        print(treinamento_x)\n",
    "        print(treinamento_y)"
   ]
  },
  {
   "cell_type": "code",
   "execution_count": null,
   "metadata": {},
   "outputs": [],
   "source": [
    "#Adequando o array para 3 dimensões para seguir o modelo de treinamento\n",
    "treinamento_x, treinamento_y = np.array(treinamento_x), np.array(treinamento_y)\n",
    "\n",
    "treinamento_x = treinamento_x.reshape(treinamento_x.shape[0], treinamento_x.shape[1], 1)\n",
    "\n",
    "print(treinamento_x)"
   ]
  },
  {
   "cell_type": "code",
   "execution_count": null,
   "metadata": {},
   "outputs": [],
   "source": [
    "modelo = Sequential()\n",
    "\n",
    "#O modelo será construído com 50 neurônios\n",
    "\n",
    "modelo.add(LSTM(50, return_sequences=True, input_shape = (treinamento_x.shape[1], 1)))\n",
    "modelo.add(LSTM(50, return_sequences=False))\n",
    "modelo.add(Dense(25))\n",
    "modelo.add(Dense(1))\n",
    "\n",
    "treinamento_x.shape[1]"
   ]
  },
  {
   "cell_type": "code",
   "execution_count": null,
   "metadata": {},
   "outputs": [],
   "source": [
    "#O modelo irá utilizar o algorítimo Adam como otimizador e terá sua função de erro medida em erro quadrático\n",
    "modelo.compile(optimizer=\"adam\", loss=\"mean_squared_error\")"
   ]
  },
  {
   "cell_type": "code",
   "execution_count": null,
   "metadata": {},
   "outputs": [],
   "source": [
    "#O modelo será otimizado a cada 1 iteração e neste momento só itera 1 vez sobre todo os dados\n",
    "modelo.fit(treinamento_x, treinamento_y, batch_size=1, epochs=1)"
   ]
  },
  {
   "cell_type": "code",
   "execution_count": 46,
   "metadata": {},
   "outputs": [
    {
     "ename": "TypeError",
     "evalue": "only integer scalar arrays can be converted to a scalar index",
     "output_type": "error",
     "traceback": [
      "\u001b[1;31m---------------------------------------------------------------------------\u001b[0m",
      "\u001b[1;31mTypeError\u001b[0m                                 Traceback (most recent call last)",
      "Cell \u001b[1;32mIn[46], line 1\u001b[0m\n\u001b[1;32m----> 1\u001b[0m dados_teste \u001b[38;5;241m=\u001b[39m \u001b[43mdados_0_1\u001b[49m\u001b[43m[\u001b[49m\u001b[43mdados_a_treinar\u001b[49m\u001b[43m \u001b[49m\u001b[38;5;241;43m-\u001b[39;49m\u001b[43m \u001b[49m\u001b[38;5;241;43m60\u001b[39;49m\u001b[43m:\u001b[49m\u001b[43m,\u001b[49m\u001b[43m \u001b[49m\u001b[43m:\u001b[49m\u001b[43m]\u001b[49m\n\u001b[0;32m      3\u001b[0m teste_x \u001b[38;5;241m=\u001b[39m []\n\u001b[0;32m      5\u001b[0m teste_y \u001b[38;5;241m=\u001b[39m cotacao[dados_sendo_treinados: , :]\n",
      "\u001b[1;31mTypeError\u001b[0m: only integer scalar arrays can be converted to a scalar index"
     ]
    }
   ],
   "source": [
    "dados_teste = dados_0_1[dados_a_treinar - 60:, :]\n",
    "\n",
    "teste_x = []\n",
    "\n",
    "teste_y = cotacao[dados_sendo_treinados: , :]\n",
    "\n",
    "for i in range(60, len(dados_teste)):\n",
    "    teste_x.append(dados_teste[i - 60, 0])"
   ]
  },
  {
   "cell_type": "code",
   "execution_count": null,
   "metadata": {},
   "outputs": [],
   "source": []
  }
 ],
 "metadata": {
  "kernelspec": {
   "display_name": "Python 3 (ipykernel)",
   "language": "python",
   "name": "python3"
  },
  "language_info": {
   "codemirror_mode": {
    "name": "ipython",
    "version": 3
   },
   "file_extension": ".py",
   "mimetype": "text/x-python",
   "name": "python",
   "nbconvert_exporter": "python",
   "pygments_lexer": "ipython3",
   "version": "3.11.7"
  }
 },
 "nbformat": 4,
 "nbformat_minor": 4
}
