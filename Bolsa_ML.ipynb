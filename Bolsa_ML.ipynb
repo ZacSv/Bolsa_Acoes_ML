{
 "cells": [
  {
   "cell_type": "code",
   "execution_count": 7,
   "metadata": {},
   "outputs": [],
   "source": [
    "import math\n",
    "import numpy as np\n",
    "import pandas as pd\n",
    "from sklearn.preprocessing import MinMaxScaler\n",
    "from keras.models import Sequential\n",
    "from keras.layers import Dense, LSTM\n",
    "import matplotlib.pyplot as plt\n",
    "from datetime import datetime\n",
    "from datetime import timedelta\n",
    "import yfinance as yf\n",
    "pd.options.mode.chained_assignment = None"
   ]
  },
  {
   "cell_type": "code",
   "execution_count": null,
   "metadata": {
    "scrolled": true
   },
   "outputs": [],
   "source": [
    "#Defininfo o período de referência para treinamento do modelo\n",
    "acao = \"VALE3.SA\"\n",
    "inicio = \"2015-12-31\"\n",
    "fim = \"2024-04-10\"\n",
    "dados_acao = yf.download(acao, inicio, fim)"
   ]
  },
  {
   "cell_type": "code",
   "execution_count": 9,
   "metadata": {},
   "outputs": [],
   "source": [
    "#Pegando os dados da cotação no ato do fechamento, não na cotação ajustada\n",
    "cotacao = dados_acao['Close'].to_numpy().reshape(-1, 1)"
   ]
  },
  {
   "cell_type": "code",
   "execution_count": null,
   "metadata": {},
   "outputs": [],
   "source": [
    "#Definindo para serem treinados apenas 80% dos dados evitando o sobreajuste (overfitting)\n",
    "dados_sendo_treinados = int(len(cotacao) * 0.8)"
   ]
  },
  {
   "cell_type": "code",
   "execution_count": null,
   "metadata": {},
   "outputs": [],
   "source": [
    "#Escalonando os dados para uma escala entre 0 e 1 facilitando o treinamento da rede\n",
    "escalador_dados = MinMaxScaler(feature_range=(0, 1))\n",
    "dados_0_1_treinamento = escalador_dados.fit_transform(cotacao[0: dados_sendo_treinados, :])\n",
    "dados_0_1_testes = escalador_dados.transform(cotacao[dados_sendo_treinados: , :])\n",
    "dados_0_1 = list(dados_0_1_treinamento.reshape(len(dados_0_1_treinamento))) + list(dados_0_1_testes.reshape(len(dados_0_1_testes)))\n",
    "dados_0_1 = np.array(dados_0_1).reshape(len(dados_0_1), 1)\n"
   ]
  },
  {
   "cell_type": "code",
   "execution_count": null,
   "metadata": {},
   "outputs": [],
   "source": []
  }
 ],
 "metadata": {
  "kernelspec": {
   "display_name": "Python 3 (ipykernel)",
   "language": "python",
   "name": "python3"
  },
  "language_info": {
   "codemirror_mode": {
    "name": "ipython",
    "version": 3
   },
   "file_extension": ".py",
   "mimetype": "text/x-python",
   "name": "python",
   "nbconvert_exporter": "python",
   "pygments_lexer": "ipython3",
   "version": "3.11.7"
  }
 },
 "nbformat": 4,
 "nbformat_minor": 4
}
